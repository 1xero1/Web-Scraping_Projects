{
 "cells": [
  {
   "cell_type": "code",
   "execution_count": 159,
   "metadata": {},
   "outputs": [
    {
     "name": "stdout",
     "output_type": "stream",
     "text": [
      "200\n"
     ]
    }
   ],
   "source": [
    "#Extract bank notes details from the website 'http://www.atsnotes.com/catalog/cedulas-mundo-catalogo.html'\n",
    "\n",
    "import requests\n",
    "from bs4 import BeautifulSoup\n",
    "BaseURL=\"http://www.atsnotes.com/catalog/\"\n",
    "res = requests.get('http://www.atsnotes.com/catalog/cedulas-mundo-catalogo.html')\n",
    "status = res.status_code #check if the website working status\n",
    "print(status)\n",
    "page = requests.get(\"http://www.atsnotes.com/catalog/cedulas-mundo-catalogo.html\") #get the main page\n",
    "soup = BeautifulSoup(page.content, 'html.parser')#get the page content via 'html.parser'"
   ]
  },
  {
   "cell_type": "code",
   "execution_count": 160,
   "metadata": {},
   "outputs": [],
   "source": [
    "#check page title, head, body\n",
    "page_title = soup.title.text\n",
    "page_body = soup.body\n",
    "page_head = soup.head\n",
    "#print(page_body)"
   ]
  },
  {
   "cell_type": "code",
   "execution_count": 161,
   "metadata": {},
   "outputs": [],
   "source": [
    "#Since our landing page has href links leading to final extraction destination\n",
    "#we extract all links tagged with href\n",
    "lst=[]\n",
    "SoupFind=soup.find_all('a')\n",
    "\n",
    "for link in SoupFind:\n",
    "    url=link.get('href')\n",
    "    lst.append(url)"
   ]
  },
  {
   "cell_type": "code",
   "execution_count": 162,
   "metadata": {},
   "outputs": [],
   "source": [
    "#since the 'href' links also contain the catalogue language (website language) selection, \n",
    "#we create a speate l;ist for language selection\n",
    "#(optional use)\n",
    "LangSelect=lst[4:16]"
   ]
  },
  {
   "cell_type": "code",
   "execution_count": 163,
   "metadata": {},
   "outputs": [],
   "source": [
    "CountriesURLsList=lst[17:-25]"
   ]
  },
  {
   "cell_type": "code",
   "execution_count": 317,
   "metadata": {},
   "outputs": [
    {
     "name": "stdout",
     "output_type": "stream",
     "text": [
      "200\n"
     ]
    }
   ],
   "source": [
    "#for x in range(len(BankNotesURLsList)):\n",
    "CountryURL=CountriesURLsList[2]\n",
    "CountryPageURL=BaseURL+CountryURL\n",
    "#TestURL=BaseURL+'banknotes/korea-north.html'\n",
    "CountryPage = requests.get(CountryPageURL)\n",
    "status = CountryPage.status_code #check if the website working status\n",
    "print(status)"
   ]
  },
  {
   "cell_type": "code",
   "execution_count": 319,
   "metadata": {},
   "outputs": [],
   "source": [
    "CountryPage = requests.get(CountryPageURL)\n",
    "CountryPageSoup= BeautifulSoup(CountryPage.content, 'html.parser')\n",
    "ImgList=[]\n",
    "ImgNames=[]\n",
    "#get the images URL List\n",
    "images = CountryPageSoup.select('img')\n",
    "for image in images:\n",
    "    src = image.get('src')\n",
    "    ImgList.append(src) \n",
    "    ImgURLList=ImgList[2:]\n",
    "    #print(ImgURLList)\n"
   ]
  },
  {
   "cell_type": "code",
   "execution_count": 334,
   "metadata": {},
   "outputs": [],
   "source": [
    "#Get The Image URLs\n",
    "ImURL=[]\n",
    "for y in range(len(ImgURLList)):\n",
    "    url=ImgURLList[y]\n",
    "    ImgURL=url[3:]\n",
    "    ImageURL=BaseURL+ImgURL\n",
    "    ImURL.append(ImageURL)\n",
    "    #print(ImageURL)"
   ]
  },
  {
   "cell_type": "code",
   "execution_count": 335,
   "metadata": {},
   "outputs": [],
   "source": [
    "#Get the Image Names\n",
    "ImageName=[]\n",
    "for img in ImgURLList:\n",
    "    nm=img.split(\"/\")\n",
    "    ImgName=nm[-1]\n",
    "    ImageName.append(ImgName)\n",
    "#ImageName"
   ]
  },
  {
   "cell_type": "code",
   "execution_count": 342,
   "metadata": {},
   "outputs": [],
   "source": [
    "#Write Images\n",
    "for x in range (len(ImURL)):\n",
    "    img_data=requests.get(ImURL[x]).content\n",
    "    with open(ImageName[x] , 'wb') as handler:\n",
    "        handler.write(img_data)"
   ]
  }
 ],
 "metadata": {
  "kernelspec": {
   "display_name": "Python 3",
   "language": "python",
   "name": "python3"
  },
  "language_info": {
   "codemirror_mode": {
    "name": "ipython",
    "version": 3
   },
   "file_extension": ".py",
   "mimetype": "text/x-python",
   "name": "python",
   "nbconvert_exporter": "python",
   "pygments_lexer": "ipython3",
   "version": "3.8.5"
  }
 },
 "nbformat": 4,
 "nbformat_minor": 4
}
